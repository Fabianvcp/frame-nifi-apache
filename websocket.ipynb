{
 "cells": [
  {
   "cell_type": "code",
   "execution_count": 20,
   "id": "16148859-8de8-46dd-a40d-208280fc778c",
   "metadata": {},
   "outputs": [],
   "source": [
    "import websockets\n",
    "import asyncio\n",
    "import time\n",
    "from concurrent.futures import TimeoutError as ConnectionTimeoutError\n",
    "# ws = websocket.WebSocket()\n",
    "# ws.connect(\"ws://cdf01it-01adl.claro.amx:30009\")\n",
    "# for i in range(10000):\n",
    "#     ws.send(\"aaaa04|1081|0|0||0|1||0||||||||0||||||ServiceCell|\")\n",
    "# print(\"primera tanda\")\n",
    "# time.sleep(30)\n",
    "# for i in range(10000):\n",
    "#     ws.send(\"aaaa04|1081|0|0||0|1||0||||||||0||||||ServiceCell|\")\n",
    "# print(\"segunda tanda\")\n",
    "# print(ws.recv())"
   ]
  },
  {
   "cell_type": "code",
   "execution_count": 21,
   "id": "093f50a6-f686-48f2-9e7e-36afa5909607",
   "metadata": {},
   "outputs": [
    {
     "name": "stdout",
     "output_type": "stream",
     "text": [
      "\n"
     ]
    }
   ],
   "source": [
    "    \n",
    "def datos():\n",
    "    ws = websocket.WebSocket()\n",
    "    ws.connect(\"ws://cdf01it-01adl.claro.amx:30009\")\n",
    "    for i in range(10000):\n",
    "        ws.send(\"aaaa04|1081|0|0||0|1||0||||||||0||||||ServiceCell|\")\n",
    "    print(ws.recv())          \n",
    "    ws.close()\n",
    "    \n",
    "datos() "
   ]
  },
  {
   "cell_type": "code",
   "execution_count": null,
   "id": "2d401fdd-1eb0-46a7-8e45-7292b8efe0e6",
   "metadata": {},
   "outputs": [],
   "source": []
  }
 ],
 "metadata": {
  "kernelspec": {
   "display_name": "Python 3 (ipykernel)",
   "language": "python",
   "name": "python3"
  },
  "language_info": {
   "codemirror_mode": {
    "name": "ipython",
    "version": 3
   },
   "file_extension": ".py",
   "mimetype": "text/x-python",
   "name": "python",
   "nbconvert_exporter": "python",
   "pygments_lexer": "ipython3",
   "version": "3.10.2"
  }
 },
 "nbformat": 4,
 "nbformat_minor": 5
}

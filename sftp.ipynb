{
 "cells": [
  {
   "cell_type": "code",
   "execution_count": 2,
   "id": "6edf620d-6001-4150-bb24-0b9bbb6ae169",
   "metadata": {},
   "outputs": [],
   "source": [
    "import pysftp\n",
    "import fnmatch\n",
    "import os\n",
    "import paramiko"
   ]
  },
  {
   "cell_type": "markdown",
   "id": "bede2f7b-7855-498f-99c1-064ba105a4f0",
   "metadata": {},
   "source": [
    "### Pre-configuraciones"
   ]
  },
  {
   "cell_type": "code",
   "execution_count": 48,
   "id": "2a114b24-ec43-4343-9d14-694c3f487c1f",
   "metadata": {},
   "outputs": [],
   "source": [
    "remote_path=\"/streams/inputs/files4test/ussd/AR/ussd-sms/\"\n",
    "destino_archivos=r\"C:\\\\Users\\\\admin\\\\Desktop\\\\nifilocal\\\\local_archive\"\n",
    "file_extension=\".dat\"\n",
    "\n",
    "cnopts = pysftp.CnOpts()\n",
    "cnopts.hostkeys = None \n"
   ]
  },
  {
   "cell_type": "markdown",
   "id": "4b672d9f-9358-496b-ba6c-2f74799515fe",
   "metadata": {},
   "source": [
    "## coneccion"
   ]
  },
  {
   "cell_type": "code",
   "execution_count": 81,
   "id": "bf795b04-3a96-4abc-aea1-a76af2679354",
   "metadata": {},
   "outputs": [
    {
     "name": "stdout",
     "output_type": "stream",
     "text": [
      "GB30_07252022_163132_5_0365.dat\n"
     ]
    },
    {
     "ename": "FileNotFoundError",
     "evalue": "[WinError 3] El sistema no puede encontrar la ruta especificada: 'C:\\\\Users\\\\admin\\\\Desktop\\\\nifilocal\\\\local_archive\\\\./streams/inputs/files4test/ussd/AR/ussd-sms'",
     "output_type": "error",
     "traceback": [
      "\u001b[1;31m---------------------------------------------------------------------------\u001b[0m",
      "\u001b[1;31mFileNotFoundError\u001b[0m                         Traceback (most recent call last)",
      "Input \u001b[1;32mIn [81]\u001b[0m, in \u001b[0;36m<cell line: 1>\u001b[1;34m()\u001b[0m\n\u001b[0;32m      4\u001b[0m         \u001b[38;5;28mprint\u001b[39m(filename)\n\u001b[0;32m      5\u001b[0m         \u001b[38;5;66;03m# sftp.get_r(os.path.join(remote_path, filename), destino_archivos, preserve_mtime=True)\u001b[39;00m\n\u001b[1;32m----> 6\u001b[0m         \u001b[43msftp\u001b[49m\u001b[38;5;241;43m.\u001b[39;49m\u001b[43mget_r\u001b[49m\u001b[43m(\u001b[49m\u001b[43mos\u001b[49m\u001b[38;5;241;43m.\u001b[39;49m\u001b[43mpath\u001b[49m\u001b[38;5;241;43m.\u001b[39;49m\u001b[43mjoin\u001b[49m\u001b[43m(\u001b[49m\u001b[43mremote_path\u001b[49m\u001b[43m)\u001b[49m\u001b[43m,\u001b[49m\u001b[43m \u001b[49m\u001b[43mdestino_archivos\u001b[49m\u001b[43m)\u001b[49m\n\u001b[0;32m      7\u001b[0m sftp\u001b[38;5;241m.\u001b[39mclose()\n",
      "File \u001b[1;32m~\\AppData\\Local\\Programs\\Python\\Python310\\lib\\site-packages\\pysftp\\__init__.py:306\u001b[0m, in \u001b[0;36mConnection.get_r\u001b[1;34m(self, remotedir, localdir, preserve_mtime)\u001b[0m\n\u001b[0;32m    304\u001b[0m     \u001b[38;5;28;01mfor\u001b[39;00m subdir \u001b[38;5;129;01min\u001b[39;00m path_advance(head):\n\u001b[0;32m    305\u001b[0m         \u001b[38;5;28;01mif\u001b[39;00m subdir \u001b[38;5;129;01mnot\u001b[39;00m \u001b[38;5;129;01min\u001b[39;00m wtcb\u001b[38;5;241m.\u001b[39mdlist \u001b[38;5;129;01mand\u001b[39;00m subdir \u001b[38;5;241m!=\u001b[39m \u001b[38;5;124m'\u001b[39m\u001b[38;5;124m.\u001b[39m\u001b[38;5;124m'\u001b[39m:\n\u001b[1;32m--> 306\u001b[0m             \u001b[43mos\u001b[49m\u001b[38;5;241;43m.\u001b[39;49m\u001b[43mmkdir\u001b[49m\u001b[43m(\u001b[49m\u001b[43mreparent\u001b[49m\u001b[43m(\u001b[49m\u001b[43mlocaldir\u001b[49m\u001b[43m,\u001b[49m\u001b[43m \u001b[49m\u001b[43msubdir\u001b[49m\u001b[43m)\u001b[49m\u001b[43m)\u001b[49m\n\u001b[0;32m    307\u001b[0m             wtcb\u001b[38;5;241m.\u001b[39mdlist \u001b[38;5;241m=\u001b[39m wtcb\u001b[38;5;241m.\u001b[39mdlist \u001b[38;5;241m+\u001b[39m [subdir, ]\n\u001b[0;32m    309\u001b[0m \u001b[38;5;28mself\u001b[39m\u001b[38;5;241m.\u001b[39mget(fname,\n\u001b[0;32m    310\u001b[0m          reparent(localdir, fname),\n\u001b[0;32m    311\u001b[0m          preserve_mtime\u001b[38;5;241m=\u001b[39mpreserve_mtime)\n",
      "\u001b[1;31mFileNotFoundError\u001b[0m: [WinError 3] El sistema no puede encontrar la ruta especificada: 'C:\\\\Users\\\\admin\\\\Desktop\\\\nifilocal\\\\local_archive\\\\./streams/inputs/files4test/ussd/AR/ussd-sms'"
     ]
    }
   ],
   "source": [
    "with pysftp.Connection(\"vertientes6.claro.amx\", username=\"streamsadmin\", password=\"Vates2015\", cnopts=cnopts, port=22) as sftp:        \n",
    "    for filename in sftp.listdir(remote_path):\n",
    "        if fnmatch.fnmatch(filename, \"*\"+file_extension):\n",
    "            print(filename)\n",
    "            # sftp.get_r(os.path.join(remote_path, filename), destino_archivos, preserve_mtime=True)\n",
    "            sftp.get_r(os.path.join(remote_path), destino_archivos)\n",
    "    sftp.close()"
   ]
  },
  {
   "cell_type": "code",
   "execution_count": null,
   "id": "bb843b41-b415-46ed-b0f0-0851c65e5612",
   "metadata": {},
   "outputs": [],
   "source": []
  }
 ],
 "metadata": {
  "kernelspec": {
   "display_name": "Python 3 (ipykernel)",
   "language": "python",
   "name": "python3"
  },
  "language_info": {
   "codemirror_mode": {
    "name": "ipython",
    "version": 3
   },
   "file_extension": ".py",
   "mimetype": "text/x-python",
   "name": "python",
   "nbconvert_exporter": "python",
   "pygments_lexer": "ipython3",
   "version": "3.10.2"
  }
 },
 "nbformat": 4,
 "nbformat_minor": 5
}

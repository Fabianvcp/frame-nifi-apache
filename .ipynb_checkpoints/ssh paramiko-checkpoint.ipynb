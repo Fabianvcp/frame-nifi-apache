{
 "cells": [
  {
   "cell_type": "code",
   "execution_count": null,
   "id": "a8bc44db-b74a-4946-8b26-8d4a9e5831e9",
   "metadata": {},
   "outputs": [],
   "source": [
    "import paramiko"
   ]
  },
  {
   "cell_type": "code",
   "execution_count": 25,
   "id": "b0520a7a-7b04-42a0-8668-c53775d25d6d",
   "metadata": {},
   "outputs": [
    {
     "name": "stdout",
     "output_type": "stream",
     "text": [
      "drwxr-xr-x   1 1008     100           103 22 Jul 08:25 ?\n",
      "b'/streams/inputs/files4test/sms-bill-newnet/AR\\n'\n",
      "b'/streams/inputs/files4test/sms-bill-newnet/AR\\n'\n"
     ]
    }
   ],
   "source": [
    "try:\n",
    "    host=\"vertientes6.claro.amx\"\n",
    "    username=\"streamsadmin\"\n",
    "    password=\"Vates2015\"\n",
    "    ssh = paramiko.SSHClient()\n",
    "    ssh.set_missing_host_key_policy(paramiko.AutoAddPolicy())\n",
    "    ssh.connect(host, username=username, password=password)\n",
    "    sftp = ssh.open_sftp()\n",
    "    sftp.chdir(\"/streams/inputs/files4test/sms-bill-newnet/AR\")\n",
    "    tdin, stdout, stderr = ssh.exec_command(\"cd /streams/inputs/files4test/sms-bill-newnet/AR; pwd\")\n",
    "    output = stdout.read()\n",
    "    print(stat)\n",
    "    print(output.encode('utf-8'))\n",
    "    tdin, stdout, stderr = ssh.exec_command(\"pwd\")\n",
    "    print(output.encode('utf-8'))\n",
    "    ssh.close()\n",
    "except Exception as e:\n",
    "    print(str(e))"
   ]
  },
  {
   "cell_type": "code",
   "execution_count": null,
   "id": "0df6ce00-baed-4695-9a41-fd7416428c42",
   "metadata": {},
   "outputs": [],
   "source": []
  }
 ],
 "metadata": {
  "kernelspec": {
   "display_name": "Python 3 (ipykernel)",
   "language": "python",
   "name": "python3"
  },
  "language_info": {
   "codemirror_mode": {
    "name": "ipython",
    "version": 3
   },
   "file_extension": ".py",
   "mimetype": "text/x-python",
   "name": "python",
   "nbconvert_exporter": "python",
   "pygments_lexer": "ipython3",
   "version": "3.10.2"
  }
 },
 "nbformat": 4,
 "nbformat_minor": 5
}

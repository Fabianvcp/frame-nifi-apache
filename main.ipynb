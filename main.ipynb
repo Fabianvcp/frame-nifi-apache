{
 "cells": [
  {
   "cell_type": "code",
   "execution_count": 4,
   "id": "1143d61d-ea67-47af-89eb-e3559b704964",
   "metadata": {},
   "outputs": [
    {
     "name": "stdout",
     "output_type": "stream",
     "text": [
      "total 53592\n",
      "-rw-------  1 streamsadmin users      252 Aug  8  2019 dead.letter\n",
      "-rw-r--r--  1 streamsadmin users        5 May 31  2019 doimain.txt\n",
      "drwxr-xr-x  2 streamsadmin users     4096 May 15  2020 elk\n",
      "-rwxr-xr-x  1 streamsadmin users     5781 Nov 13  2019 IBMStreams4.3.0.3_InstallSummary.log\n",
      "drwxr-xr-x  3 streamsadmin users     4096 Jun  3  2019 install.dir.14017\n",
      "drwxr-xr-x  3 streamsadmin users     4096 May  6  2019 install.dir.25611\n",
      "drwxrwxr-x  3 streamsadmin users     4096 Nov  1  2018 install.dir.27052\n",
      "drwxrwxr-x  3 streamsadmin users     4096 Nov  1  2018 install.dir.27173\n",
      "-rw-r--r--  1 streamsadmin users      296 May  3  2019 LD.TXT\n",
      "-rw-rw-rw-  1 streamsadmin users        0 Jan 28  2020 odbc.ini\n",
      "-rw-r--r--  1 streamsadmin users     1360 Jun 26  2018 odbc.iniBack\n",
      "-rw-rw-rw-  1 streamsadmin users        0 Jan 28  2020 odbcinst.ini\n",
      "-rw-r--r--  1 streamsadmin users      376 Jan 28  2020 odbcinst.iniBack\n",
      "-rw-r--r--  1 streamsadmin users 52826628 Jan 28  2020 oracle-instantclient12.2-basic-12.2.0.1.0-1.x8\n"
     ]
    }
   ],
   "source": [
    "import paramiko\n",
    "import time\n",
    "\n",
    "HOST = 'vertientes6.claro.amx'\n",
    "USER = 'streamsadmin' \n",
    "PASSWORD='Vates2015'\n",
    "\n",
    "if __name__ == '__main__':\n",
    "    try:\n",
    "        client = paramiko.SSHClient()    \n",
    "        client.set_missing_host_key_policy(paramiko.AutoAddPolicy())\n",
    "        client.connect(HOST, username=USER, password= PASSWORD)\n",
    "        \n",
    "        # standar input, standart output, standart error = client.exec_command('ls')\n",
    "        # stdin, stdout, stderr = client.exec_command('ls')\n",
    "        # time.sleep(1)\n",
    "        # result = stdout.read().decode()\n",
    "        # print(result)\n",
    "        scp_client = scp.SCPClient(client.get_transport())\n",
    "        session = client.get_transport().open_session()\n",
    "        if session.active:\n",
    "            session.exec_command('ls -l')\n",
    "            result = session.recv(1024).decode()\n",
    "            print(result)\n",
    "        client.close()\n",
    "    except paramiko.ssh_exception.AuthenticationException as e:\n",
    "        print('Autenticación Fallida.')"
   ]
  },
  {
   "cell_type": "code",
   "execution_count": null,
   "id": "4beebe4c-cf70-4d6e-b2cc-d4d126971e62",
   "metadata": {},
   "outputs": [],
   "source": []
  }
 ],
 "metadata": {
  "kernelspec": {
   "display_name": "Python 3 (ipykernel)",
   "language": "python",
   "name": "python3"
  },
  "language_info": {
   "codemirror_mode": {
    "name": "ipython",
    "version": 3
   },
   "file_extension": ".py",
   "mimetype": "text/x-python",
   "name": "python",
   "nbconvert_exporter": "python",
   "pygments_lexer": "ipython3",
   "version": "3.10.2"
  }
 },
 "nbformat": 4,
 "nbformat_minor": 5
}

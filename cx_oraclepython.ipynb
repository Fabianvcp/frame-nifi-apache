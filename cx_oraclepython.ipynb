{
 "cells": [
  {
   "cell_type": "markdown",
   "id": "97fc8f2d-1ead-4f04-b0fd-eb9467ac5b14",
   "metadata": {},
   "source": [
    "# Automatización de consultas sql"
   ]
  },
  {
   "cell_type": "markdown",
   "id": "1ac0a971-18e3-470d-abce-cab9721bf7a9",
   "metadata": {},
   "source": [
    "## librerias"
   ]
  },
  {
   "cell_type": "code",
   "execution_count": 1,
   "id": "1ac632dc-056d-4a3f-91e6-aa650678d0be",
   "metadata": {},
   "outputs": [],
   "source": [
    "import cx_Oracle\n",
    "from prettytable import PrettyTable\n",
    "from prettytable.colortable import RESET_CODE, ColorTable, Theme"
   ]
  },
  {
   "cell_type": "markdown",
   "id": "ce8ac15a-3803-4c33-aae0-b7502d0923dc",
   "metadata": {},
   "source": [
    "## Datos de acceso"
   ]
  },
  {
   "cell_type": "code",
   "execution_count": 2,
   "id": "a964c4bb-9487-4188-b395-79a02de6bf81",
   "metadata": {},
   "outputs": [],
   "source": [
    "username = 'dstreamsdb'\n",
    "password = 'claro2015'\n",
    "dsn = 'exa1-scan.claro.amx/RAC8.world'\n",
    "port = 1512\n",
    "encoding = 'UTF-8'"
   ]
  },
  {
   "cell_type": "markdown",
   "id": "71206f39-f84b-4039-819d-6709aeb254ca",
   "metadata": {},
   "source": [
    "## Consulta de base datos"
   ]
  },
  {
   "cell_type": "code",
   "execution_count": 63,
   "id": "f67452e9-cbd7-4406-bcb3-56ef57d1eea8",
   "metadata": {},
   "outputs": [],
   "source": [
    "def oraclesSentence(dbSentece):\n",
    "    ### error no poner sus columnas, te va mostrar una sola columna\n",
    "    \"\"\"\n",
    "          ** DESA **\n",
    "        Host: exa1-scan.claro.amx\n",
    "        Nombre de Servicio: RAC8.WORLD\n",
    "        User: dstreamsdb\n",
    "        Pass: claro2015\n",
    "    \"\"\"\n",
    "    connection = None\n",
    "    try: \n",
    "        connection = cx_Oracle.connect(username,password,dsn,encoding=encoding)\n",
    "        ### obtenemos los campos para tener las columnas de las tablas, separando los campos de select por espacio que hay entre ambos \n",
    "        ### y lo cierra el espacio entre el ultimo campo y el from\n",
    "        campos = dbSentece.split(\" \")[1]\n",
    "        tabla = dbSentece.split(\" \")[3]\n",
    "        ### en caso de un where ingresemos con #el valor string para cambiarlos por '' #\n",
    "        new_s = dbSentece.replace(\"#\",\"'\")\n",
    "        if campos == '*':\n",
    "            columnas = []\n",
    "            cursor = connection.cursor()\n",
    "            for row in cursor.execute(\"SELECT column_name FROM all_tab_columns WHERE table_name = '\"+tabla+\"'\"):                \n",
    "                columnas.append(row[0])            \n",
    "            cursor.close()            \n",
    "            y = PrettyTable(columnas)\n",
    "        else:\n",
    "            ### Convertimos una lista la cadena de texto\n",
    "            output=campos.split(',')  \n",
    "            y = PrettyTable(output)\n",
    "            \n",
    "        cursor = connection.cursor()\n",
    "        for fila in cursor.execute(new_s):\n",
    "                y.add_row(fila)\n",
    "                print()\n",
    "        cursor.close()\n",
    "        print(y.get_string(title=\"Resultado de \"+tabla))\n",
    "    except cx_Oracle.Error as error:\n",
    "        print(error)\n",
    "    finally:\n",
    "    # release the connection\n",
    "        if connection:\n",
    "            connection.close()   "
   ]
  },
  {
   "cell_type": "markdown",
   "id": "722e6074-07ae-4811-98d1-8df016db118d",
   "metadata": {},
   "source": [
    "## Lectura de archivo"
   ]
  },
  {
   "cell_type": "code",
   "execution_count": 64,
   "id": "c0cf67cf-d7f5-4e52-95f9-0882fb2468b8",
   "metadata": {},
   "outputs": [
    {
     "data": {
      "text/plain": [
       "'FEATURE Pruebas de cluspac'"
      ]
     },
     "metadata": {},
     "output_type": "display_data"
    },
    {
     "data": {
      "text/plain": [
       "'SCENARIO Se espera ejecuciÃ³n exitosa'"
      ]
     },
     "metadata": {},
     "output_type": "display_data"
    },
    {
     "name": "stdout",
     "output_type": "stream",
     "text": [
      "+-----------------------------------------------------------------------------------------------------------------------------------------------------------------------------------------------------------------------+\n",
      "|                                                                                             Resultado de NEWNET_DB_DUMP_AR                                                                                            |\n",
      "+-----------------+-----------------+---------------+-------------------+-------------------+-------------------+----------------+--------------+---------------------+-----------------+------------+------------------+\n",
      "| NDB_SUBMIT_DATE | NDB_SUBMIT_TIME | NDB_RECIPIENT | NDB_RECIPIENT_CDR | NDB_DELIVERY_DATE | NDB_DELIVERY_TIME | NDB_ORIGINATOR | NDB_APP_NAME | NDB_DELIVERY_RESULT | NDB_SMS_CONTENT | NDB_MSG_ID | NDB_PROCESS_DATE |\n",
      "+-----------------+-----------------+---------------+-------------------+-------------------+-------------------+----------------+--------------+---------------------+-----------------+------------+------------------+\n",
      "+-----------------+-----------------+---------------+-------------------+-------------------+-------------------+----------------+--------------+---------------------+-----------------+------------+------------------+\n"
     ]
    },
    {
     "data": {
      "text/plain": [
       "None"
      ]
     },
     "metadata": {},
     "output_type": "display_data"
    }
   ],
   "source": [
    "def getIDfromLine(line):\n",
    "    ##regresame la sentencia sql que esta entre comillas simples\n",
    "    return line.split(\"'\")[1]\n",
    "\n",
    "def readFileInput():\n",
    "    inputfile = open(\"db.txt\", 'r')\n",
    "    lines = inputfile.readlines()\n",
    "    for line in lines:\n",
    "        readEscenario(line)\n",
    "\n",
    "def readEscenario(line):\n",
    "    if \"FEATURE\" in line.upper():\n",
    "        display(\"FEATURE \"+getIDfromLine(line))\n",
    "    elif \"SCENARIO\" in line.upper():\n",
    "        display(\"SCENARIO \"+getIDfromLine(line))\n",
    "    elif \"CONSULT \" in line.upper():\n",
    "        \n",
    "        dbSentece = getIDfromLine(line)        \n",
    "        resultado = oraclesSentence(dbSentece)\n",
    "        display(resultado)\n",
    "        \n",
    "readFileInput()    "
   ]
  },
  {
   "cell_type": "code",
   "execution_count": null,
   "id": "da7db155-3a47-44c3-8ab7-8bad88ee58be",
   "metadata": {},
   "outputs": [],
   "source": []
  }
 ],
 "metadata": {
  "kernelspec": {
   "display_name": "Python 3 (ipykernel)",
   "language": "python",
   "name": "python3"
  },
  "language_info": {
   "codemirror_mode": {
    "name": "ipython",
    "version": 3
   },
   "file_extension": ".py",
   "mimetype": "text/x-python",
   "name": "python",
   "nbconvert_exporter": "python",
   "pygments_lexer": "ipython3",
   "version": "3.9.7"
  }
 },
 "nbformat": 4,
 "nbformat_minor": 5
}
